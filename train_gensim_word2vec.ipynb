{
 "cells": [
  {
   "cell_type": "markdown",
   "id": "variable-course",
   "metadata": {},
   "source": [
    "# Learning item embeddings with Gensim's Word2Vec\n",
    "\n",
    "Embeddings have become a staple in modern machine learning. Say something else smart about embeddings. \n",
    "\n",
    "A good embedding will provide a numerical representation for objects in a latent space, in which vectors for similar objects are physically closer to each other in that space. Word embeddings are an obvious and wildly popular application of a successful vector embedding, but there are many other applications such as product embeddings, user embeddings, graph node embeddings, etc.  Essentially, any collection of entities can be \"embedded.\" Embedding vectors are themselves rarely the end goal. Instead, success is usually measured by metrics on some downstream task such as classification, topic assignment, clustering, or even providing relevant recommendations. \n",
    "\n",
    "There are myriad techniques for learning embeddings, many of which are developed with a specific type of embedding in mind (for example, collaboritive filtering can generate embeddings for users and products ideal for recommendation systeams). But sometimes, a generic approach to learning embeddings is good enough. \n",
    "\n",
    "In this notebook we explore one way to learn item embeddings in the context of a recommendation system using a classic embedding algorithm: Word2Vec. Details on our approach can be found in our recent research report [Session Based Recommenders](https://session-based-recommenders.fastforwardlabs.com/). \n",
    "\n",
    "\n",
    "Our goal is to learn product embeddings for each of the products in our dataset. In our Session-based Recommenders report we accomplished this by considering a customer's _session_, that is, the products each customer purchased over time. Ideally, embeddings learned in this fashion will incorporate customer preferences and history. (An alternate method is to learn content-based embeddings, which consider only features of each product rather than a user's interaction with that product.)"
   ]
  },
  {
   "cell_type": "markdown",
   "id": "nonprofit-quest",
   "metadata": {},
   "source": [
    "## Set up notebook dependencies\n",
    "\n",
    "In addition to the Gensim library, this notebook makes use of Ray Tune for hyperparameter optimization. These and a few other dependencies are installed and imported in the following cells. "
   ]
  },
  {
   "cell_type": "code",
   "execution_count": 1,
   "id": "loose-africa",
   "metadata": {},
   "outputs": [],
   "source": [
    "%%capture\n",
    "# ^ hiding large cell output. disable for logs.\n",
    "!pip install -r requirements.txt"
   ]
  },
  {
   "cell_type": "markdown",
   "id": "copyrighted-samuel",
   "metadata": {},
   "source": [
    "The `recsys` library included in this repo was originally developed for the Session-Based Recommenders project and includes helper functions and utilities for data, models, and metrics. Much of the functionality in this notebook is actually contained within this small library but we show it explicitly (rather than importing it) in order to showcase and explore the functionality. However, we do still rely on some of the helper functions which we import below. "
   ]
  },
  {
   "cell_type": "code",
   "execution_count": 1,
   "id": "unique-riding",
   "metadata": {},
   "outputs": [],
   "source": [
    "import collections\n",
    "import itertools\n",
    "from copy import deepcopy \n",
    "from typing import List\n",
    "\n",
    "import numpy as np\n",
    "import pandas as pd\n",
    "\n",
    "from gensim.models.word2vec import Word2Vec\n",
    "from gensim.models.callbacks import CallbackAny2Vec\n",
    "from ray import tune\n",
    "from ray.tune.schedulers import ASHAScheduler\n",
    "\n",
    "from recsys.data import load_ecomm, load_original_ecomm, preprocess_ecomm, train_test_split\n",
    "from recsys.metrics import recall_at_k\n",
    "from recsys.utils import absolute_filename"
   ]
  },
  {
   "cell_type": "markdown",
   "id": "beginning-equity",
   "metadata": {},
   "source": [
    "## Quick exploration of the data (products in the Online Retail dataset) \n",
    "\n",
    "There's an entire [notebook](https://github.com/fastforwardlabs/session_based_recommenders/blob/2dde9a7265fd3a7e3bed567cd14dd412b7a5c708/notebooks/Explore_Online_Retail_Dataset.ipynb) on this in the Session-Based Recommenders repo. Just pull some of the good bits an dput them here. \n",
    "\n",
    "\n",
    "This is a transnational data set which contains all purchase transactions occurring between 01/12/2010 and 09/12/2011 for a UK-based and registered non-store online retail. The company mainly sells unique all-occasion gifts. Many customers of the company are wholesalers. \n",
    "\n",
    "The dataset is composed of the following columns:\n",
    "\n",
    "\n",
    "* **InvoiceNo**: Invoice number. Nominal, a 6-digit integral number uniquely assigned to each transaction. If this code starts with letter 'c', it indicates a cancellation.\n",
    "* **StockCode**: Product (item) code. Nominal, a 5-digit integral number uniquely assigned to each distinct product.\n",
    "* **Description**: Product (item) name. Nominal.\n",
    "* **Quantity**: The quantities of each product (item) per transaction. Numeric.\n",
    "* **InvoiceDate**: Invice Date and time. Numeric, the day and time when each transaction was generated.\n",
    "* **UnitPrice**: Unit price. Numeric, Product price per unit in sterling.\n",
    "* **CustomerID**: Customer number. Nominal, a 5-digit integral number uniquely assigned to each customer.\n",
    "* **Country**: Country name. Nominal, the name of the country where each customer resides.\n",
    "\n",
    "We obtained the Online Retail dataset from the Kaggle website found [here](https://www.kaggle.com/vijayuv/onlineretail). \n",
    "The data is open source but you will need to register on Kaggle's website before downloading. \n"
   ]
  },
  {
   "cell_type": "code",
   "execution_count": 2,
   "id": "constant-keyboard",
   "metadata": {},
   "outputs": [],
   "source": [
    "df = load_original_ecomm()"
   ]
  },
  {
   "cell_type": "code",
   "execution_count": 3,
   "id": "studied-irrigation",
   "metadata": {},
   "outputs": [
    {
     "data": {
      "text/html": [
       "<div>\n",
       "<style scoped>\n",
       "    .dataframe tbody tr th:only-of-type {\n",
       "        vertical-align: middle;\n",
       "    }\n",
       "\n",
       "    .dataframe tbody tr th {\n",
       "        vertical-align: top;\n",
       "    }\n",
       "\n",
       "    .dataframe thead th {\n",
       "        text-align: right;\n",
       "    }\n",
       "</style>\n",
       "<table border=\"1\" class=\"dataframe\">\n",
       "  <thead>\n",
       "    <tr style=\"text-align: right;\">\n",
       "      <th></th>\n",
       "      <th>InvoiceNo</th>\n",
       "      <th>StockCode</th>\n",
       "      <th>Description</th>\n",
       "      <th>Quantity</th>\n",
       "      <th>InvoiceDate</th>\n",
       "      <th>UnitPrice</th>\n",
       "      <th>CustomerID</th>\n",
       "      <th>Country</th>\n",
       "    </tr>\n",
       "  </thead>\n",
       "  <tbody>\n",
       "    <tr>\n",
       "      <th>0</th>\n",
       "      <td>536365</td>\n",
       "      <td>85123A</td>\n",
       "      <td>WHITE HANGING HEART T-LIGHT HOLDER</td>\n",
       "      <td>6</td>\n",
       "      <td>2010-12-01 08:26:00</td>\n",
       "      <td>2.55</td>\n",
       "      <td>17850.0</td>\n",
       "      <td>United Kingdom</td>\n",
       "    </tr>\n",
       "    <tr>\n",
       "      <th>1</th>\n",
       "      <td>536365</td>\n",
       "      <td>71053</td>\n",
       "      <td>WHITE METAL LANTERN</td>\n",
       "      <td>6</td>\n",
       "      <td>2010-12-01 08:26:00</td>\n",
       "      <td>3.39</td>\n",
       "      <td>17850.0</td>\n",
       "      <td>United Kingdom</td>\n",
       "    </tr>\n",
       "    <tr>\n",
       "      <th>2</th>\n",
       "      <td>536365</td>\n",
       "      <td>84406B</td>\n",
       "      <td>CREAM CUPID HEARTS COAT HANGER</td>\n",
       "      <td>8</td>\n",
       "      <td>2010-12-01 08:26:00</td>\n",
       "      <td>2.75</td>\n",
       "      <td>17850.0</td>\n",
       "      <td>United Kingdom</td>\n",
       "    </tr>\n",
       "    <tr>\n",
       "      <th>3</th>\n",
       "      <td>536365</td>\n",
       "      <td>84029G</td>\n",
       "      <td>KNITTED UNION FLAG HOT WATER BOTTLE</td>\n",
       "      <td>6</td>\n",
       "      <td>2010-12-01 08:26:00</td>\n",
       "      <td>3.39</td>\n",
       "      <td>17850.0</td>\n",
       "      <td>United Kingdom</td>\n",
       "    </tr>\n",
       "    <tr>\n",
       "      <th>4</th>\n",
       "      <td>536365</td>\n",
       "      <td>84029E</td>\n",
       "      <td>RED WOOLLY HOTTIE WHITE HEART.</td>\n",
       "      <td>6</td>\n",
       "      <td>2010-12-01 08:26:00</td>\n",
       "      <td>3.39</td>\n",
       "      <td>17850.0</td>\n",
       "      <td>United Kingdom</td>\n",
       "    </tr>\n",
       "  </tbody>\n",
       "</table>\n",
       "</div>"
      ],
      "text/plain": [
       "  InvoiceNo StockCode                          Description  Quantity  \\\n",
       "0    536365    85123A   WHITE HANGING HEART T-LIGHT HOLDER         6   \n",
       "1    536365     71053                  WHITE METAL LANTERN         6   \n",
       "2    536365    84406B       CREAM CUPID HEARTS COAT HANGER         8   \n",
       "3    536365    84029G  KNITTED UNION FLAG HOT WATER BOTTLE         6   \n",
       "4    536365    84029E       RED WOOLLY HOTTIE WHITE HEART.         6   \n",
       "\n",
       "          InvoiceDate  UnitPrice  CustomerID         Country  \n",
       "0 2010-12-01 08:26:00       2.55     17850.0  United Kingdom  \n",
       "1 2010-12-01 08:26:00       3.39     17850.0  United Kingdom  \n",
       "2 2010-12-01 08:26:00       2.75     17850.0  United Kingdom  \n",
       "3 2010-12-01 08:26:00       3.39     17850.0  United Kingdom  \n",
       "4 2010-12-01 08:26:00       3.39     17850.0  United Kingdom  "
      ]
     },
     "execution_count": 3,
     "metadata": {},
     "output_type": "execute_result"
    }
   ],
   "source": [
    "df.head(5)"
   ]
  },
  {
   "cell_type": "markdown",
   "id": "affected-ecuador",
   "metadata": {},
   "source": [
    "Our goal is to learn product embeddings for each of the products in our dataset. In our Session-based Recommenders report we accomplished this by considering a customer's _session_, that is, the products each customer purchased over time. Viewed in this way, each customer's product purchases \n",
    "\n",
    "Below is a one such customer session (you can see their full session by removing the `head` modifier):"
   ]
  },
  {
   "cell_type": "code",
   "execution_count": 4,
   "id": "exposed-invitation",
   "metadata": {
    "scrolled": true
   },
   "outputs": [
    {
     "data": {
      "text/html": [
       "<div>\n",
       "<style scoped>\n",
       "    .dataframe tbody tr th:only-of-type {\n",
       "        vertical-align: middle;\n",
       "    }\n",
       "\n",
       "    .dataframe tbody tr th {\n",
       "        vertical-align: top;\n",
       "    }\n",
       "\n",
       "    .dataframe thead th {\n",
       "        text-align: right;\n",
       "    }\n",
       "</style>\n",
       "<table border=\"1\" class=\"dataframe\">\n",
       "  <thead>\n",
       "    <tr style=\"text-align: right;\">\n",
       "      <th></th>\n",
       "      <th>InvoiceDate</th>\n",
       "      <th>StockCode</th>\n",
       "      <th>Description</th>\n",
       "    </tr>\n",
       "  </thead>\n",
       "  <tbody>\n",
       "    <tr>\n",
       "      <th>34083</th>\n",
       "      <td>2010-12-16 19:09:00</td>\n",
       "      <td>84992</td>\n",
       "      <td>72 SWEETHEART FAIRY CAKE CASES</td>\n",
       "    </tr>\n",
       "    <tr>\n",
       "      <th>34084</th>\n",
       "      <td>2010-12-16 19:09:00</td>\n",
       "      <td>22951</td>\n",
       "      <td>60 CAKE CASES DOLLY GIRL DESIGN</td>\n",
       "    </tr>\n",
       "    <tr>\n",
       "      <th>34085</th>\n",
       "      <td>2010-12-16 19:09:00</td>\n",
       "      <td>84991</td>\n",
       "      <td>60 TEATIME FAIRY CAKE CASES</td>\n",
       "    </tr>\n",
       "    <tr>\n",
       "      <th>34086</th>\n",
       "      <td>2010-12-16 19:09:00</td>\n",
       "      <td>84991</td>\n",
       "      <td>60 TEATIME FAIRY CAKE CASES</td>\n",
       "    </tr>\n",
       "    <tr>\n",
       "      <th>34087</th>\n",
       "      <td>2010-12-16 19:09:00</td>\n",
       "      <td>21213</td>\n",
       "      <td>PACK OF 72 SKULL CAKE CASES</td>\n",
       "    </tr>\n",
       "  </tbody>\n",
       "</table>\n",
       "</div>"
      ],
      "text/plain": [
       "              InvoiceDate StockCode                      Description\n",
       "34083 2010-12-16 19:09:00     84992   72 SWEETHEART FAIRY CAKE CASES\n",
       "34084 2010-12-16 19:09:00     22951  60 CAKE CASES DOLLY GIRL DESIGN\n",
       "34085 2010-12-16 19:09:00     84991      60 TEATIME FAIRY CAKE CASES\n",
       "34086 2010-12-16 19:09:00     84991      60 TEATIME FAIRY CAKE CASES\n",
       "34087 2010-12-16 19:09:00     21213      PACK OF 72 SKULL CAKE CASES"
      ]
     },
     "execution_count": 4,
     "metadata": {},
     "output_type": "execute_result"
    }
   ],
   "source": [
    "customer_groups = df.groupby(\"CustomerID\")\n",
    "pd.DataFrame(list(customer_groups)[2][1])[[\"InvoiceDate\", \"StockCode\", \"Description\"]].head(5)"
   ]
  },
  {
   "cell_type": "markdown",
   "id": "invisible-feeling",
   "metadata": {},
   "source": [
    "The `StockCode` column provides a sequence of product IDs that we will treat as a sentence. Each unique customer yields a different sentence and the collection of all customer sessions will act as our corpus. We already have functionality to reformat our original dataframe into a format palatable by Gensim. "
   ]
  },
  {
   "cell_type": "code",
   "execution_count": 5,
   "id": "structured-tackle",
   "metadata": {},
   "outputs": [
    {
     "name": "stdout",
     "output_type": "stream",
     "text": [
      "/Users/mbeck/Projects/item-embeddings-with-gensim-word2vec/data/ecomm/OnlineRetail_sessions.pkl already exists! Please use overwrite flag.\n"
     ]
    }
   ],
   "source": [
    "corpus = preprocess_ecomm(df)"
   ]
  },
  {
   "cell_type": "markdown",
   "id": "behavioral-michael",
   "metadata": {},
   "source": [
    "Here's that same customer, now in a format that Gensim's word2vec model will appreciate. There are 4234 \"documents\" in our customer session \"corpus\". "
   ]
  },
  {
   "cell_type": "code",
   "execution_count": 6,
   "id": "acceptable-cameroon",
   "metadata": {
    "scrolled": true
   },
   "outputs": [
    {
     "name": "stdout",
     "output_type": "stream",
     "text": [
      "84992 22951 84991 84991 21213 21213 22616 21981 21982 21725 21211 84988 22952 22952 21977 21977 POST 21980 21985 21726 21983 21967 POST 23077 23078 23076 22437 POST 23077 23078 POST\n"
     ]
    }
   ],
   "source": [
    "print(*corpus[1])"
   ]
  },
  {
   "cell_type": "code",
   "execution_count": 7,
   "id": "chemical-interim",
   "metadata": {},
   "outputs": [
    {
     "data": {
      "text/plain": [
       "4234"
      ]
     },
     "execution_count": 7,
     "metadata": {},
     "output_type": "execute_result"
    }
   ],
   "source": [
    "len(corpus)"
   ]
  },
  {
   "cell_type": "markdown",
   "id": "western-storm",
   "metadata": {},
   "source": [
    "Train test spli"
   ]
  },
  {
   "cell_type": "code",
   "execution_count": 8,
   "id": "narrative-newfoundland",
   "metadata": {},
   "outputs": [],
   "source": [
    "train, test, valid = train_test_split(corpus, test_size=1000)"
   ]
  },
  {
   "cell_type": "markdown",
   "id": "handmade-sense",
   "metadata": {},
   "source": [
    "## Setting up training\n",
    "\n",
    "If you take a gander at the Gensim documentation, training word2vec embeddings on your corpus is a single line of code!"
   ]
  },
  {
   "cell_type": "code",
   "execution_count": 9,
   "id": "optical-transfer",
   "metadata": {},
   "outputs": [],
   "source": [
    "# this automatically trains word2vec on a corpus and returns a model that contains the embeddings \n",
    "out_of_the_box_model = Word2Vec(sentences=train) "
   ]
  },
  {
   "cell_type": "markdown",
   "id": "mounted-bonus",
   "metadata": {},
   "source": [
    "\n",
    "So what more do we need? Turns out, a few things. The above line of code will train word2vec using the default hyperparameters, which have emperically been deemed appropriate for  human language. However, we are not learning embeddings for words in sentences -- we're learning item embeddings from a sequence of purchases! As such, there's no reason to believe that the default hyperparameters will be sufficient for our use case. This means we'll need to perform a hyperparameter search. \n",
    "\n",
    "\n",
    "### Ingredients for hyperparameter optimization (HPO)\n",
    "While integral to the machine learning lifecycle, hyperparameter optimization is a computationally demanding task. In order to manage and minimize the computational cost, we'll need some help from the [Ray Tune](https://docs.ray.io/en/master/tune/index.html), a Python library for experiment execution and hyperparameter tuning at any scale. Specifically, we'll make use of an early stopping algorithm (ASHA) that terminates trials of hyperparameter configurations that are underperforming, thus saving compute time for configurations that are more promising. \n",
    "\n",
    "\n",
    "ASHA (and other early stopping HPO algorithms) work by monitoring a metric during training for each hyperparameter configuration, comparing them, and terminating those that underperform. This means we need a metric to monitor throughout training. The single line code snippet above will not get us there! Enter Gensim Callbacks. \n"
   ]
  },
  {
   "cell_type": "markdown",
   "id": "disciplinary-sending",
   "metadata": {},
   "source": [
    "### Logging metrics during training with Gensim Callbacks\n",
    "\n",
    "A loss logger is pretty standard but it turns out that Gensim's loss logging for the word2vec model is a little buggy and probably incorrect (see [this] GitHub issue). While it is useful for drawing general conclusions about the overall health of your training (e.g., loss should generally be decreasing), the actual values are not super useful. "
   ]
  },
  {
   "cell_type": "code",
   "execution_count": 10,
   "id": "bright-shopping",
   "metadata": {},
   "outputs": [],
   "source": [
    "class LossLogger(CallbackAny2Vec):\n",
    "    '''Report training loss at each epoch'''\n",
    "    def __init__(self):\n",
    "        self.epoch = 0\n",
    "        self.previous_loss = 0\n",
    "        self.training_loss = []\n",
    "\n",
    "    def on_epoch_end(self, model):\n",
    "        # the loss output by Word2Vec is more akin to a cumulative loss and increases each epoch\n",
    "        # to get a value closer to loss per epoch, we subtract\n",
    "        cumulative_loss = model.get_latest_training_loss()\n",
    "        loss = cumulative_loss - self.previous_loss\n",
    "        self.previous_loss = cumulative_loss\n",
    "        self.training_loss.append(loss)\n",
    "        print(f' Loss: {loss}')\n",
    "        self.epoch += 1"
   ]
  },
  {
   "cell_type": "markdown",
   "id": "entitled-maker",
   "metadata": {},
   "source": [
    "More importantly, monitoring the model's training loss doesn't really tell us much about the quality of our item embeddings. For that, we need to consider a metric that measures a downstream task we're interested in. For example, since we're trying to learn item embeddings, we might be interested in how successful these embeddings are at providing recommendations. There are tons of metrics that measure recommendation quality. We'll use Recall@K. \n",
    "\n",
    "This callback is more advanced than simply reporting the model's internal training loss. The training loss is an attribute of the model itself. As such, it's easy to call as shown above on line 11.  By contrast, downstream metrics evaluate the quality of the embeddings so they are computed using the model's learned embeddings _up to that point in the training,_ as applied to a validation set.  This requires a bit of finaggling (see lines 17 and 18). "
   ]
  },
  {
   "cell_type": "code",
   "execution_count": 11,
   "id": "quiet-actress",
   "metadata": {},
   "outputs": [],
   "source": [
    "class RecallAtKLogger(CallbackAny2Vec):\n",
    "    '''Report Recall@K at each epoch\n",
    "    \n",
    "    Computes and reports recall_at_k metric for a given validation_set and k value. \n",
    "    recall_at_k metric is implemented in the recsys library. See there for more details.\n",
    "    \n",
    "    Inputs:\n",
    "        validation_set   : \n",
    "        k                : the \"K\" in recall_at_k (number of recommendations to generate)\n",
    "        ray_tune         : if true, reports recall_at_k to Ray; else to STDOUT\n",
    "        save_model       : if true, saves model to disk every 10 epochs\n",
    "    '''\n",
    "    def __init__(self, validation_set:List[List[str]], k:int, \n",
    "                 ray_tune:bool = False, save_model:bool = False):\n",
    "        self.epoch = 0\n",
    "        self.recall_scores = []\n",
    "        self.validation = validation_set\n",
    "        self.k = k\n",
    "        self.tune = ray_tune\n",
    "        self.save = save_model\n",
    "\n",
    "    def on_epoch_begin(self, model):\n",
    "        if not self.tune:\n",
    "            print(f'Epoch: {self.epoch}', end='\\t')\n",
    "\n",
    "    def on_epoch_end(self, model):\n",
    "        # must deepcopy the model and set the copy's wv to None\n",
    "        mod = deepcopy(model)\n",
    "        mod.wv.norms = None # will cause it recalculate norms \n",
    "        \n",
    "        # Checkpoint: save the model every 10 epochs\n",
    "        if self.epoch%10 == 0 and self.save: \n",
    "            model.save(absolute_filename(f\"{MODEL_DIR}w2v_{self.epoch}.model\"))\n",
    "        \n",
    "        ratk_score = recall_at_k(self.validation, mod.wv, self.k)  \n",
    "\n",
    "        if self.tune: \n",
    "            tune.report(recall_at_k = ratk_score)    \n",
    "        else:\n",
    "            self.recall_scores.append(ratk_score)\n",
    "            print(f' Recall@10: {ratk_score}')\n",
    "        self.epoch += 1"
   ]
  },
  {
   "cell_type": "markdown",
   "id": "equal-costs",
   "metadata": {},
   "source": [
    "Now we can create a wrapper to train our word2vec model. We'll allow it to be trained with or without the Callbacks above (to provide additional flexibility). After training, this function returns the all-important embeddings vectors. "
   ]
  },
  {
   "cell_type": "code",
   "execution_count": 12,
   "id": "velvet-grade",
   "metadata": {},
   "outputs": [],
   "source": [
    "def train_w2v(train_data:List[List[str]], params:dict, callbacks=None):\n",
    "    \"\"\" training wrapper for word2vec\n",
    "    \n",
    "    Inputs\n",
    "        train_data  : List of Lists\n",
    "        params      : hyperparameters\n",
    "        callbacks   : (List) callbacks to associate with the model\n",
    "    \"\"\"\n",
    "    if callbacks:\n",
    "        model = Word2Vec(callbacks=callbacks, **params)\n",
    "    else:\n",
    "        model = Word2Vec(**params)\n",
    "    model.build_vocab(train_data)\n",
    "    model.train(train_data, total_examples=model.corpus_count, epochs=model.epochs, compute_loss=True)\n",
    "    vectors = model.wv\n",
    "    return vectors"
   ]
  },
  {
   "cell_type": "markdown",
   "id": "increased-drama",
   "metadata": {},
   "source": [
    "Ray Tune requires a wrapper of it's own to execute for each hyperparameter configuration it attempts. This wrapper should contain everything necessary to train and evaluate the model: \n",
    "* data loading\n",
    "* metric logging\n",
    "* model training"
   ]
  },
  {
   "cell_type": "code",
   "execution_count": 13,
   "id": "emerging-annotation",
   "metadata": {},
   "outputs": [],
   "source": [
    "def tune_w2v(hyperparameters:dict):\n",
    "    \"\"\" Hyperparameter optimization wrapper for Ray Tune\"\"\"\n",
    "    ratk_logger = RecallAtKLogger(valid, k=10, ray_tune=True)\n",
    "    train_w2v(train, params=hyperparameters, callbacks=[ratk_logger])"
   ]
  },
  {
   "cell_type": "markdown",
   "id": "authorized-living",
   "metadata": {},
   "source": [
    "## Hyperperamter optimization and early stopping with Ray Tune\n",
    "\n",
    "Now we come to the good stuff! Here we define the hyperparameter search space. The Word2Vec model has many tunable hyperparameters. We select a subset here and perform a grid search. We also define a trial scheduler which will terminate trials with underperforming hyperparameter configurations. \n",
    "\n",
    "Note that grid search is not a "
   ]
  },
  {
   "cell_type": "code",
   "execution_count": 35,
   "id": "controlled-stereo",
   "metadata": {
    "scrolled": false
   },
   "outputs": [
    {
     "data": {
      "text/html": [
       "== Status ==<br>Memory usage on this node: 10.1/16.0 GiB<br>Using AsyncHyperBand: num_stopped=8\n",
       "Bracket: Iter 40.000: 0.24375 | Iter 10.000: 0.22075<br>Resources requested: 0/12 CPUs, 0/0 GPUs, 0.0/5.62 GiB heap, 0.0/1.9 GiB objects<br>Current best trial: 2b476_00001 with recall_at_k=0.246 and parameters={'size': 63, 'window': 4, 'ns_exponent': -0.2, 'alpha': 0.007784952779200499, 'negative': 17, 'iter': 50, 'min_count': 1, 'workers': 6, 'sg': 1}<br>Result logdir: /Users/mbeck/Projects/item-embeddings-with-gensim-word2vec/ray_results/tune_w2v_2021-07-14_15-43-39<br>Number of trials: 10/10 (10 TERMINATED)<br><br>"
      ],
      "text/plain": [
       "<IPython.core.display.HTML object>"
      ]
     },
     "metadata": {},
     "output_type": "display_data"
    },
    {
     "name": "stderr",
     "output_type": "stream",
     "text": [
      "2021-07-14 15:48:50,400\tINFO tune.py:450 -- Total run time: 311.07 seconds (310.92 seconds for the tuning loop).\n"
     ]
    }
   ],
   "source": [
    "search_space = {\n",
    "    \"size\":         tune.randint(10, 100),\n",
    "    \"window\":       tune.randint(3, 25),\n",
    "    \"ns_exponent\":  tune.quniform(-1.0, 1.0, .2),\n",
    "    \"alpha\":        tune.loguniform(1e-4, 1e-2),\n",
    "    \"negative\":     tune.randint(1, 25),\n",
    "    \"iter\": 50,     # number of epochs\n",
    "    \"min_count\": 1, # number of instances that a token appears before word2vec creates an embedding vector for it\n",
    "    \"workers\": 6,   # number of CPU workers\n",
    "    \"sg\": 1,        # trains the skip-gram version of word2vec\n",
    "}\n",
    "\n",
    "asha_scheduler = ASHAScheduler(max_t=100, grace_period=10) \n",
    "\n",
    "analysis = tune.run(\n",
    "    tune_w2v,\n",
    "    local_dir=absolute_filename(\"ray_results\"), # HPO trial results saved in this directory\n",
    "    metric=\"recall_at_k\",\n",
    "    mode=\"max\",\n",
    "    scheduler=asha_scheduler,\n",
    "    verbose=1,\n",
    "    resources_per_trial={\n",
    "        \"cpu\": 1,\n",
    "        \"gpu\": 0\n",
    "    },\n",
    "    num_samples=10,       # number of HP trials to attempt\n",
    "    config=search_space,\n",
    ")"
   ]
  },
  {
   "cell_type": "code",
   "execution_count": 24,
   "id": "fleet-advocate",
   "metadata": {},
   "outputs": [],
   "source": [
    "path = \"/Users/mbeck/Projects/item-embeddings-with-gensim-word2vec/ray_results/tune_w2v_2021-07-14_15-43-39\"\n",
    "analysis = tune.Analysis(path, default_metric=\"recall_at_k\", default_mode=\"max\")"
   ]
  },
  {
   "cell_type": "markdown",
   "id": "described-conversation",
   "metadata": {},
   "source": [
    "### Visualize HPO trials\n",
    "Below we can examine the results of our hyperparameter optimization experiment. We plot the metric as a function of epochs for every attempted trial. Notice that many trials are terminated early because they clearly were performing worse than a few others, which dominated the metric throughout training. Only two hyperparameter configurations completed all 50 epochs of training, saving us a ton of compute time! "
   ]
  },
  {
   "cell_type": "code",
   "execution_count": 25,
   "id": "medieval-witness",
   "metadata": {},
   "outputs": [
    {
     "data": {
      "image/png": "[encoded data removed]",
      "text/plain": [
       "<Figure size 432x288 with 1 Axes>"
      ]
     },
     "metadata": {
      "needs_background": "light"
     },
     "output_type": "display_data"
    }
   ],
   "source": [
    "# Plot all trials as a function of epochs\n",
    "dfs = analysis.trial_dataframes\n",
    "ax = None\n",
    "for d in dfs.values():\n",
    "    ax = d.recall_at_k.plot(ax=ax)\n",
    "ax.set_xlabel(\"Epochs\");\n",
    "ax.set_ylabel(\"Recall@10\");\n"
   ]
  },
  {
   "cell_type": "markdown",
   "id": "upper-madonna",
   "metadata": {},
   "source": [
    "This process has produced a winning set of hyperparameters that we can now use to learn the best item embeddings for our dataset. Unless you set the `save_model = True` flag, we now need to train the winning model! (Ray Tune supports checkpointing and model saving but we have not implemented those features here). "
   ]
  },
  {
   "cell_type": "code",
   "execution_count": 26,
   "id": "polar-bullet",
   "metadata": {},
   "outputs": [
    {
     "name": "stdout",
     "output_type": "stream",
     "text": [
      "{'alpha': 0.0048761605746311, 'iter': 50, 'min_count': 1, 'negative': 3, 'ns_exponent': 0.2, 'sg': 1, 'size': 38, 'window': 9, 'workers': 6}\n"
     ]
    }
   ],
   "source": [
    "best_hps = analysis.get_best_config()\n",
    "print(best_hps)"
   ]
  },
  {
   "cell_type": "code",
   "execution_count": 41,
   "id": "brazilian-seller",
   "metadata": {},
   "outputs": [],
   "source": [
    "tuned_model = Word2Vec(sentences=train, **best_hps)"
   ]
  },
  {
   "cell_type": "markdown",
   "id": "meaning-breath",
   "metadata": {},
   "source": [
    "## Results\n",
    "\n",
    "Our goal was to learn predictive item embeddings for the products in our catalog based on customer interactions with those products. "
   ]
  },
  {
   "cell_type": "code",
   "execution_count": 42,
   "id": "black-volleyball",
   "metadata": {},
   "outputs": [],
   "source": [
    "tuned_embeddings = tuned_model.wv\n",
    "ootb_embeddings = out_of_the_box_model.wv"
   ]
  },
  {
   "cell_type": "markdown",
   "id": "abroad-motivation",
   "metadata": {},
   "source": [
    "Let's evaluate our embeddings on the test set now! We'll use the same metric we used during hyperparameter optimization. "
   ]
  },
  {
   "cell_type": "code",
   "execution_count": 46,
   "id": "colored-favor",
   "metadata": {},
   "outputs": [],
   "source": [
    "tuned_recall_at_k = recall_at_k(test, tuned_embeddings, k=10)\n",
    "ootb_recall_at_k = recall_at_k(test, ootb_embeddings, k=10)"
   ]
  },
  {
   "cell_type": "code",
   "execution_count": 47,
   "id": "interesting-collins",
   "metadata": {},
   "outputs": [
    {
     "data": {
      "text/plain": [
       "0.237"
      ]
     },
     "execution_count": 47,
     "metadata": {},
     "output_type": "execute_result"
    }
   ],
   "source": [
    "tuned_recall_at_k"
   ]
  },
  {
   "cell_type": "code",
   "execution_count": 48,
   "id": "optical-defendant",
   "metadata": {},
   "outputs": [
    {
     "data": {
      "text/plain": [
       "0.203"
      ]
     },
     "execution_count": 48,
     "metadata": {},
     "output_type": "execute_result"
    }
   ],
   "source": [
    "ootb_recall_at_k"
   ]
  },
  {
   "cell_type": "code",
   "execution_count": null,
   "id": "ordered-horizon",
   "metadata": {},
   "outputs": [],
   "source": []
  }
 ],
 "metadata": {
  "kernelspec": {
   "display_name": "Python 3",
   "language": "python",
   "name": "python3"
  },
  "language_info": {
   "codemirror_mode": {
    "name": "ipython",
    "version": 3
   },
   "file_extension": ".py",
   "mimetype": "text/x-python",
   "name": "python",
   "nbconvert_exporter": "python",
   "pygments_lexer": "ipython3",
   "version": "3.8.8"
  }
 },
 "nbformat": 4,
 "nbformat_minor": 5
}

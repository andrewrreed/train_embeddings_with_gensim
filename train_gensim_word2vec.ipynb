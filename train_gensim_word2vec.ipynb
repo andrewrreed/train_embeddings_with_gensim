{
 "cells": [
  {
   "cell_type": "markdown",
   "id": "african-company",
   "metadata": {},
   "source": [
    "# Learning item embeddings with Gensim's Word2Vec\n",
    "\n",
    "Popoularized by word vector representations, \"embeddings\" have become a staple of modern machine learning -- and they're not just for words anymore! It's become common to learn embeddings for all kinds of things: retail products, hotel listings, user profiles, videos, music, and more.  Just about anything can be represented as a numerical vector. \n",
    "\n",
    "**Why item embeddings?**\n",
    "\n",
    "A learned embedding is a numerical vector representation for some object (a product, a video, a word) in a _latent space,_ a space in which similar objects have vectors that are closer together. This property makes embeddings useful for a slew of downstream tasks such as recommendation, classification, clustering, and more. \n",
    "\n",
    "**Why Word2Vec?**\n",
    "\n",
    "The now canonical Word2Vec spawned an army of similar algorithms; some of our favorites include [Doc2Vec](https://arxiv.org/abs/1405.4053), [Prod2Vec](https://arxiv.org/abs/1606.07154), [code2vec](https://arxiv.org/abs/1803.09473), and [node2vec](https://arxiv.org/abs/1607.00653). While many of these algorithms were inspired by the original, they include layers of sophistication and domain adaptations tailored to specific use cases or data types. While the array of \"2vec\" algorithms may seem daunting (how do we know which one is best for our use case?), it never hurts to start with a classic. Not only has Word2Vec been shown to be [competitive](https://arxiv.org/pdf/1804.04212.pdf) with some of these more tailored approaches, it also provides a strong baseline for comparison. And with the [Gensim](https://radimrehurek.com/gensim/index.html) library, training Word2Vec is fast, lightweight, and production-ready. \n",
    "\n",
    "**Prereqs**\n",
    "\n",
    "Perhaps the best feature of all is that Word2Vec is an unsupervised algorithm, so you won't need labeled data. However, you _will_ need data structured in such a way that it mimics a _corpus_: a collection of documents or sentences, themselves collections of words. If your data naturally lends itself to being grouped into meaningful sets or sequences, read on! \n",
    "\n",
    "\n",
    "**Notebook Goals**\n",
    "\n",
    "The goal of this notebook is to demonstrate how to use the classic Word2Vec algorithm from the Gensim library to learn *thing*2vec embeddings.  While we hope to demonstrate a broad application, we'll need a specific dataset for demonstration. To that end, we'll make use of our recent explorations on [Session Based Recommenders](https://session-based-recommenders.fastforwardlabs.com/) in which we learned product embeddings for an online retail store by considering customer transactions. These embeddings were then used to recommend products that a customer might be interested in. Details on our approach can be found in the accompanying [report](https://session-based-recommenders.fastforwardlabs.com/). \n"
   ]
  },
  {
   "cell_type": "markdown",
   "id": "reported-bangkok",
   "metadata": {},
   "source": [
    "## Set up notebook dependencies\n",
    "\n",
    "In addition to the Gensim library, this notebook makes use of Ray Tune for hyperparameter optimization. These and a few other dependencies are installed and imported in the following cells. "
   ]
  },
  {
   "cell_type": "code",
   "execution_count": 1,
   "id": "prime-settle",
   "metadata": {},
   "outputs": [],
   "source": [
    "%%capture\n",
    "# ^ hiding large cell output. disable for logs.\n",
    "!pip3 install -r requirements.txt\n",
    "!pip3 install ray[tune]"
   ]
  },
  {
   "cell_type": "markdown",
   "id": "verified-anthony",
   "metadata": {},
   "source": [
    "The `recsys` library included in this repo was originally developed for the Session-Based Recommenders project and includes helper functions and utilities for data, models, and metrics. Much of the functionality in this notebook is actually contained within this small library but we show it explicitly (rather than importing it) in order to showcase and explore the functionality. However, we do still rely on some of the helper functions which we import below. "
   ]
  },
  {
   "cell_type": "code",
   "execution_count": 78,
   "id": "quarterly-health",
   "metadata": {},
   "outputs": [],
   "source": [
    "from copy import deepcopy \n",
    "from typing import List\n",
    "\n",
    "import numpy as np\n",
    "import pandas as pd\n",
    "import matplotlib.pyplot as plt\n",
    "\n",
    "from gensim.models.word2vec import Word2Vec\n",
    "from gensim.models.callbacks import CallbackAny2Vec\n",
    "from ray import tune\n",
    "from ray.tune.schedulers import ASHAScheduler\n",
    "\n",
    "from recsys.data import load_ecomm, load_original_ecomm, preprocess_ecomm, train_test_split\n",
    "from recsys.metrics import recall_at_k\n",
    "from recsys.utils import absolute_filename"
   ]
  },
  {
   "cell_type": "markdown",
   "id": "human-novel",
   "metadata": {},
   "source": [
    "## The data \n",
    "\n",
    "For this demonstration we'll use the Online Retail dataset from the Kaggle website found [here](https://www.kaggle.com/vijayuv/onlineretail). We explored this dataset in depth for our Session-based recommenders project and detailed our findings in this [notebook](https://github.com/fastforwardlabs/session_based_recommenders/blob/2dde9a7265fd3a7e3bed567cd14dd412b7a5c708/notebooks/Explore_Online_Retail_Dataset.ipynb). Here we'll provide a quick recap.  \n",
    "\n",
    "The Online Retail dataset contains purchase transactions occurring between 01/12/2010 and 09/12/2011 for a UK-based online retail store. The company mainly sells unique all-occasion gifts. Many customers of the company are wholesalers. The most important columns in the dataset are:\n",
    "\n",
    "* **StockCode**: unique ID for each product\n",
    "* **Description**: product name in plain text \n",
    "* **CustomerID**: unique customer ID "
   ]
  },
  {
   "cell_type": "code",
   "execution_count": 2,
   "id": "capable-beaver",
   "metadata": {},
   "outputs": [],
   "source": [
    "df = load_original_ecomm()"
   ]
  },
  {
   "cell_type": "code",
   "execution_count": 3,
   "id": "cognitive-monster",
   "metadata": {},
   "outputs": [
    {
     "data": {
      "text/html": [
       "<div>\n",
       "<style scoped>\n",
       "    .dataframe tbody tr th:only-of-type {\n",
       "        vertical-align: middle;\n",
       "    }\n",
       "\n",
       "    .dataframe tbody tr th {\n",
       "        vertical-align: top;\n",
       "    }\n",
       "\n",
       "    .dataframe thead th {\n",
       "        text-align: right;\n",
       "    }\n",
       "</style>\n",
       "<table border=\"1\" class=\"dataframe\">\n",
       "  <thead>\n",
       "    <tr style=\"text-align: right;\">\n",
       "      <th></th>\n",
       "      <th>InvoiceNo</th>\n",
       "      <th>StockCode</th>\n",
       "      <th>Description</th>\n",
       "      <th>Quantity</th>\n",
       "      <th>InvoiceDate</th>\n",
       "      <th>UnitPrice</th>\n",
       "      <th>CustomerID</th>\n",
       "      <th>Country</th>\n",
       "    </tr>\n",
       "  </thead>\n",
       "  <tbody>\n",
       "    <tr>\n",
       "      <th>0</th>\n",
       "      <td>536365</td>\n",
       "      <td>85123A</td>\n",
       "      <td>WHITE HANGING HEART T-LIGHT HOLDER</td>\n",
       "      <td>6</td>\n",
       "      <td>2010-12-01 08:26:00</td>\n",
       "      <td>2.55</td>\n",
       "      <td>17850.0</td>\n",
       "      <td>United Kingdom</td>\n",
       "    </tr>\n",
       "    <tr>\n",
       "      <th>1</th>\n",
       "      <td>536365</td>\n",
       "      <td>71053</td>\n",
       "      <td>WHITE METAL LANTERN</td>\n",
       "      <td>6</td>\n",
       "      <td>2010-12-01 08:26:00</td>\n",
       "      <td>3.39</td>\n",
       "      <td>17850.0</td>\n",
       "      <td>United Kingdom</td>\n",
       "    </tr>\n",
       "    <tr>\n",
       "      <th>2</th>\n",
       "      <td>536365</td>\n",
       "      <td>84406B</td>\n",
       "      <td>CREAM CUPID HEARTS COAT HANGER</td>\n",
       "      <td>8</td>\n",
       "      <td>2010-12-01 08:26:00</td>\n",
       "      <td>2.75</td>\n",
       "      <td>17850.0</td>\n",
       "      <td>United Kingdom</td>\n",
       "    </tr>\n",
       "    <tr>\n",
       "      <th>3</th>\n",
       "      <td>536365</td>\n",
       "      <td>84029G</td>\n",
       "      <td>KNITTED UNION FLAG HOT WATER BOTTLE</td>\n",
       "      <td>6</td>\n",
       "      <td>2010-12-01 08:26:00</td>\n",
       "      <td>3.39</td>\n",
       "      <td>17850.0</td>\n",
       "      <td>United Kingdom</td>\n",
       "    </tr>\n",
       "    <tr>\n",
       "      <th>4</th>\n",
       "      <td>536365</td>\n",
       "      <td>84029E</td>\n",
       "      <td>RED WOOLLY HOTTIE WHITE HEART.</td>\n",
       "      <td>6</td>\n",
       "      <td>2010-12-01 08:26:00</td>\n",
       "      <td>3.39</td>\n",
       "      <td>17850.0</td>\n",
       "      <td>United Kingdom</td>\n",
       "    </tr>\n",
       "  </tbody>\n",
       "</table>\n",
       "</div>"
      ],
      "text/plain": [
       "  InvoiceNo StockCode                          Description  Quantity  \\\n",
       "0    536365    85123A   WHITE HANGING HEART T-LIGHT HOLDER         6   \n",
       "1    536365     71053                  WHITE METAL LANTERN         6   \n",
       "2    536365    84406B       CREAM CUPID HEARTS COAT HANGER         8   \n",
       "3    536365    84029G  KNITTED UNION FLAG HOT WATER BOTTLE         6   \n",
       "4    536365    84029E       RED WOOLLY HOTTIE WHITE HEART.         6   \n",
       "\n",
       "          InvoiceDate  UnitPrice  CustomerID         Country  \n",
       "0 2010-12-01 08:26:00       2.55     17850.0  United Kingdom  \n",
       "1 2010-12-01 08:26:00       3.39     17850.0  United Kingdom  \n",
       "2 2010-12-01 08:26:00       2.75     17850.0  United Kingdom  \n",
       "3 2010-12-01 08:26:00       3.39     17850.0  United Kingdom  \n",
       "4 2010-12-01 08:26:00       3.39     17850.0  United Kingdom  "
      ]
     },
     "execution_count": 3,
     "metadata": {},
     "output_type": "execute_result"
    }
   ],
   "source": [
    "df.head(5)"
   ]
  },
  {
   "cell_type": "markdown",
   "id": "controversial-sleep",
   "metadata": {},
   "source": [
    "Our goal is to learn embeddings for each product in our dataset. To do that, we'll learn embeddings for each `StockCode` because they are unique identifiers for each product.  We'll create a _corpus_ by grouping the `StockCodes` by `CustomerID`. In our Session-based Recommenders report we describe this as a customer's _session_, that is, a sequence of products a customer purchased over a period of time. \n",
    "\n",
    "--- \n",
    "**Aside**: Why not use pre-trained _word_ embeddings on the product descriptions? Honestly, that's a perfectly valid approach! But we don't do that here because our goal is to showcase how to learn _non-word_ embeddings.\n",
    "\n",
    "---\n",
    "\n",
    "\n",
    "Below is a one such customer session (you can see their full session by removing the `head` modifier):"
   ]
  },
  {
   "cell_type": "code",
   "execution_count": 75,
   "id": "lovely-criterion",
   "metadata": {
    "scrolled": true
   },
   "outputs": [
    {
     "data": {
      "text/html": [
       "<div>\n",
       "<style scoped>\n",
       "    .dataframe tbody tr th:only-of-type {\n",
       "        vertical-align: middle;\n",
       "    }\n",
       "\n",
       "    .dataframe tbody tr th {\n",
       "        vertical-align: top;\n",
       "    }\n",
       "\n",
       "    .dataframe thead th {\n",
       "        text-align: right;\n",
       "    }\n",
       "</style>\n",
       "<table border=\"1\" class=\"dataframe\">\n",
       "  <thead>\n",
       "    <tr style=\"text-align: right;\">\n",
       "      <th></th>\n",
       "      <th>StockCode</th>\n",
       "      <th>Description</th>\n",
       "    </tr>\n",
       "  </thead>\n",
       "  <tbody>\n",
       "    <tr>\n",
       "      <th>34083</th>\n",
       "      <td>84992</td>\n",
       "      <td>72 SWEETHEART FAIRY CAKE CASES</td>\n",
       "    </tr>\n",
       "    <tr>\n",
       "      <th>34084</th>\n",
       "      <td>22951</td>\n",
       "      <td>60 CAKE CASES DOLLY GIRL DESIGN</td>\n",
       "    </tr>\n",
       "    <tr>\n",
       "      <th>34085</th>\n",
       "      <td>84991</td>\n",
       "      <td>60 TEATIME FAIRY CAKE CASES</td>\n",
       "    </tr>\n",
       "    <tr>\n",
       "      <th>34086</th>\n",
       "      <td>84991</td>\n",
       "      <td>60 TEATIME FAIRY CAKE CASES</td>\n",
       "    </tr>\n",
       "    <tr>\n",
       "      <th>34087</th>\n",
       "      <td>21213</td>\n",
       "      <td>PACK OF 72 SKULL CAKE CASES</td>\n",
       "    </tr>\n",
       "  </tbody>\n",
       "</table>\n",
       "</div>"
      ],
      "text/plain": [
       "      StockCode                      Description\n",
       "34083     84992   72 SWEETHEART FAIRY CAKE CASES\n",
       "34084     22951  60 CAKE CASES DOLLY GIRL DESIGN\n",
       "34085     84991      60 TEATIME FAIRY CAKE CASES\n",
       "34086     84991      60 TEATIME FAIRY CAKE CASES\n",
       "34087     21213      PACK OF 72 SKULL CAKE CASES"
      ]
     },
     "execution_count": 75,
     "metadata": {},
     "output_type": "execute_result"
    }
   ],
   "source": [
    "customer_groups = df.groupby(\"CustomerID\")\n",
    "pd.DataFrame(list(customer_groups)[2][1])[[\"StockCode\", \"Description\"]].head(5)"
   ]
  },
  {
   "cell_type": "markdown",
   "id": "decimal-reviewer",
   "metadata": {},
   "source": [
    "The `StockCode` column provides a sequence of product IDs that we will treat as a sentence. Each unique customer yields a different \"sentence\" and the collection of all customer sessions will act as our corpus. We already have functionality to reformat our original dataframe into one palatable by Gensim. "
   ]
  },
  {
   "cell_type": "code",
   "execution_count": 5,
   "id": "enclosed-consolidation",
   "metadata": {},
   "outputs": [
    {
     "name": "stdout",
     "output_type": "stream",
     "text": [
      "/Users/mbeck/Projects/item-embeddings-with-gensim-word2vec/data/ecomm/OnlineRetail_sessions.pkl already exists! Please use overwrite flag.\n"
     ]
    }
   ],
   "source": [
    "corpus = preprocess_ecomm(df)"
   ]
  },
  {
   "cell_type": "markdown",
   "id": "brief-running",
   "metadata": {},
   "source": [
    "Here's that same customer, now in a format that Gensim's word2vec model can parse. There are 4234 \"sentences\" in our product corpus. "
   ]
  },
  {
   "cell_type": "code",
   "execution_count": 6,
   "id": "packed-motivation",
   "metadata": {
    "scrolled": true
   },
   "outputs": [
    {
     "name": "stdout",
     "output_type": "stream",
     "text": [
      "84992 22951 84991 84991 21213 21213 22616 21981 21982 21725 21211 84988 22952 22952 21977 21977 POST 21980 21985 21726 21983 21967 POST 23077 23078 23076 22437 POST 23077 23078 POST\n"
     ]
    }
   ],
   "source": [
    "print(*corpus[1])"
   ]
  },
  {
   "cell_type": "markdown",
   "id": "nuclear-creator",
   "metadata": {},
   "source": [
    "Next we'll split our data into the usual train, test, and validation sets."
   ]
  },
  {
   "cell_type": "code",
   "execution_count": 7,
   "id": "historical-principle",
   "metadata": {},
   "outputs": [],
   "source": [
    "train, test, valid = train_test_split(corpus, test_size=1000)"
   ]
  },
  {
   "cell_type": "markdown",
   "id": "integrated-actress",
   "metadata": {},
   "source": [
    "## Setting up training\n",
    "\n",
    "If you take a gander at the Gensim documentation, training word2vec embeddings on your corpus is a single line of code!"
   ]
  },
  {
   "cell_type": "code",
   "execution_count": 8,
   "id": "sealed-router",
   "metadata": {},
   "outputs": [],
   "source": [
    "# this automatically trains word2vec on a corpus and returns a model that contains the embeddings \n",
    "out_of_the_box_model = Word2Vec(sentences=train) "
   ]
  },
  {
   "cell_type": "markdown",
   "id": "moved-struggle",
   "metadata": {},
   "source": [
    "\n",
    "So what more do we need? Turns out, a few things. The above line of code will train word2vec using the default hyperparameters, which have emperically been deemed appropriate for  human language. However, we are not learning embeddings for words in sentences -- we're learning item embeddings from a sequence of purchases! As such, there's no reason to believe that the default hyperparameters will be sufficient for our use case. This means we'll need to perform a hyperparameter search. \n",
    "\n",
    "\n",
    "### Ingredients for hyperparameter optimization (HPO)\n",
    "While integral to the machine learning lifecycle, hyperparameter optimization is a computationally demanding task. In order to manage and minimize the computational cost, we'll need some help from the [Ray Tune](https://docs.ray.io/en/master/tune/index.html), a Python library for experiment execution and hyperparameter tuning at any scale. Specifically, we'll make use of an early stopping algorithm (ASHA) that terminates trials of hyperparameter configurations that are underperforming, thus saving compute time for configurations that are more promising. \n",
    "\n",
    "\n",
    "ASHA (and other early stopping HPO algorithms) work by monitoring a metric during training for each hyperparameter configuration, comparing them, and terminating those that underperform. This means we need a metric to monitor throughout training. The single line code snippet above will not get us there! Enter Gensim Callbacks. \n"
   ]
  },
  {
   "cell_type": "markdown",
   "id": "collaborative-reminder",
   "metadata": {},
   "source": [
    "### Logging metrics during training with Gensim Callbacks\n",
    "\n",
    "A loss logger is pretty standard but it turns out that Gensim's loss logging for the word2vec model is a little buggy and probably incorrect (see [this] GitHub issue). While it is useful for drawing general conclusions about the overall health of your training (e.g., loss should generally be decreasing), the actual values are not super useful. "
   ]
  },
  {
   "cell_type": "code",
   "execution_count": 10,
   "id": "narrow-bottle",
   "metadata": {},
   "outputs": [],
   "source": [
    "class LossLogger(CallbackAny2Vec):\n",
    "    '''Report training loss at each epoch'''\n",
    "    def __init__(self):\n",
    "        self.epoch = 0\n",
    "        self.previous_loss = 0\n",
    "        self.training_loss = []\n",
    "\n",
    "    def on_epoch_end(self, model):\n",
    "        # the loss output by Word2Vec is more akin to a cumulative loss and increases each epoch\n",
    "        # to get a value closer to loss per epoch, we subtract\n",
    "        cumulative_loss = model.get_latest_training_loss()\n",
    "        loss = cumulative_loss - self.previous_loss\n",
    "        self.previous_loss = cumulative_loss\n",
    "        self.training_loss.append(loss)\n",
    "        print(f' Loss: {loss}')\n",
    "        self.epoch += 1"
   ]
  },
  {
   "cell_type": "markdown",
   "id": "negative-institution",
   "metadata": {},
   "source": [
    "More importantly, monitoring the model's training loss doesn't really tell us much about the quality of our item embeddings. For that, we need to consider a metric that measures a downstream task we're interested in. For example, since we're trying to learn item embeddings, we might be interested in how successful these embeddings are at providing recommendations. There are tons of metrics that measure recommendation quality. We'll use Recall@K. \n",
    "\n",
    "This callback is more advanced than simply reporting the model's internal training loss. The training loss is an attribute of the model itself. As such, it's easy to call as shown above on line 11.  By contrast, downstream metrics evaluate the quality of the embeddings so they are computed using the model's learned embeddings _up to that point in the training,_ as applied to a validation set.  This requires a bit of finaggling (see lines 17 and 18). "
   ]
  },
  {
   "cell_type": "code",
   "execution_count": 9,
   "id": "historic-notification",
   "metadata": {},
   "outputs": [],
   "source": [
    "class RecallAtKLogger(CallbackAny2Vec):\n",
    "    '''Report Recall@K at each epoch\n",
    "    \n",
    "    Computes and reports recall_at_k metric for a given validation_set and k value. \n",
    "    recall_at_k metric is implemented in the recsys library. See there for more details.\n",
    "    \n",
    "    Inputs:\n",
    "        validation_set   : \n",
    "        k                : the \"K\" in recall_at_k (number of recommendations to generate)\n",
    "        ray_tune         : if true, reports recall_at_k to Ray; else to STDOUT\n",
    "        save_model       : if true, saves model to disk every 10 epochs\n",
    "    '''\n",
    "    def __init__(self, validation_set:List[List[str]], k:int, \n",
    "                 ray_tune:bool = False, save_model:bool = False):\n",
    "        self.epoch = 0\n",
    "        self.recall_scores = []\n",
    "        self.validation = validation_set\n",
    "        self.k = k\n",
    "        self.tune = ray_tune\n",
    "        self.save = save_model\n",
    "\n",
    "    def on_epoch_begin(self, model):\n",
    "        if not self.tune:\n",
    "            print(f'Epoch: {self.epoch}', end='\\t')\n",
    "\n",
    "    def on_epoch_end(self, model):\n",
    "        # must deepcopy the model and set the copy's wv to None\n",
    "        mod = deepcopy(model)\n",
    "        mod.wv.norms = None # will cause it recalculate norms \n",
    "        \n",
    "        # Checkpoint: save the model every 10 epochs\n",
    "        if self.epoch%10 == 0 and self.save: \n",
    "            model.save(absolute_filename(f\"{MODEL_DIR}w2v_{self.epoch}.model\"))\n",
    "        \n",
    "        ratk_score = recall_at_k(self.validation, mod.wv, self.k)  \n",
    "\n",
    "        if self.tune: \n",
    "            tune.report(recall_at_k = ratk_score)    \n",
    "        else:\n",
    "            self.recall_scores.append(ratk_score)\n",
    "            print(f' Recall@10: {ratk_score}')\n",
    "        self.epoch += 1"
   ]
  },
  {
   "cell_type": "markdown",
   "id": "advised-metabolism",
   "metadata": {},
   "source": [
    "Ray Tune requires a wrapper of it's own to execute for each hyperparameter configuration it attempts. This wrapper should contain everything necessary to train and evaluate the model: \n",
    "* data loading\n",
    "* metric logging\n",
    "* model training"
   ]
  },
  {
   "cell_type": "code",
   "execution_count": 13,
   "id": "electronic-rochester",
   "metadata": {},
   "outputs": [],
   "source": [
    "def tune_w2v(hyperparameters:dict):\n",
    "    \"\"\" Hyperparameter optimization wrapper for Ray Tune\"\"\"\n",
    "    ratk_logger = RecallAtKLogger(valid, k=10, ray_tune=True)\n",
    "    model = Word2Vec(sentences=train, callbacks=[ratk_logger], **hyperparameters)"
   ]
  },
  {
   "cell_type": "markdown",
   "id": "pressing-basis",
   "metadata": {},
   "source": [
    "## Hyperperamter optimization and early stopping with Ray Tune\n",
    "\n",
    "Now we come to the good stuff! Here we define the hyperparameter search space. The Word2Vec model has many tunable hyperparameters. We select a subset here and perform a random search (learn more about the power of random search for HPO in this recent [blog post](https://blog.fastforwardlabs.com/2021/07/07/exploring-multi-objective-hyperparameter-optimization.html)). We also define a trial scheduler which will terminate trials with underperforming hyperparameter configurations. "
   ]
  },
  {
   "cell_type": "code",
   "execution_count": 14,
   "id": "proud-ontario",
   "metadata": {
    "scrolled": false
   },
   "outputs": [
    {
     "data": {
      "text/html": [
       "== Status ==<br>Memory usage on this node: 9.2/16.0 GiB<br>Using AsyncHyperBand: num_stopped=10\n",
       "Bracket: Iter 40.000: 0.248 | Iter 10.000: 0.2225<br>Resources requested: 0/12 CPUs, 0/0 GPUs, 0.0/4.88 GiB heap, 0.0/1.66 GiB objects<br>Current best trial: af6b6_00004 with recall_at_k=0.256 and parameters={'size': 60, 'window': 18, 'ns_exponent': 0.6000000000000001, 'alpha': 0.0059037184451259635, 'negative': 11, 'iter': 50, 'min_count': 1, 'workers': 6, 'sg': 1}<br>Result logdir: /Users/mbeck/Projects/item-embeddings-with-gensim-word2vec/ray_results/tune_w2v_2021-07-15_16-14-47<br>Number of trials: 15/15 (15 TERMINATED)<br><br>"
      ],
      "text/plain": [
       "<IPython.core.display.HTML object>"
      ]
     },
     "metadata": {},
     "output_type": "display_data"
    },
    {
     "name": "stderr",
     "output_type": "stream",
     "text": [
      "2021-07-15 16:25:06,918\tINFO tune.py:450 -- Total run time: 618.97 seconds (618.91 seconds for the tuning loop).\n"
     ]
    }
   ],
   "source": [
    "search_space = {\n",
    "    \"size\":         tune.randint(10, 100),\n",
    "    \"window\":       tune.randint(3, 25),\n",
    "    \"ns_exponent\":  tune.quniform(-1.0, 1.0, .2),\n",
    "    \"alpha\":        tune.loguniform(1e-4, 1e-2),\n",
    "    \"negative\":     tune.randint(1, 25),\n",
    "    \"iter\": 50,     # number of epochs\n",
    "    \"min_count\": 1, # number of instances that a token appears before word2vec creates an embedding vector for it\n",
    "    \"workers\": 6,   # number of CPU workers\n",
    "    \"sg\": 1,        # trains the skip-gram version of word2vec\n",
    "}\n",
    "\n",
    "asha_scheduler = ASHAScheduler(max_t=100, grace_period=10) \n",
    "\n",
    "analysis = tune.run(\n",
    "    tune_w2v,\n",
    "    local_dir=absolute_filename(\"ray_results\"), # HPO trial results saved in this directory\n",
    "    metric=\"recall_at_k\",\n",
    "    mode=\"max\",\n",
    "    scheduler=asha_scheduler,\n",
    "    verbose=1,\n",
    "    resources_per_trial={\n",
    "        \"cpu\": 1,\n",
    "        \"gpu\": 0\n",
    "    },\n",
    "    num_samples=15,       # number of HP trials to attempt\n",
    "    config=search_space,\n",
    ")"
   ]
  },
  {
   "cell_type": "code",
   "execution_count": 18,
   "id": "simplified-reminder",
   "metadata": {},
   "outputs": [],
   "source": [
    "path = absolute_filename(\"ray_results/tune_w2v_2021-07-15_16-14-47\") \n",
    "analysis = tune.Analysis(path, default_metric=\"recall_at_k\", default_mode=\"max\")"
   ]
  },
  {
   "cell_type": "markdown",
   "id": "logical-cooperation",
   "metadata": {},
   "source": [
    "### Visualize HPO trials\n",
    "Below we can examine the results of our hyperparameter optimization experiment. We plot the metric as a function of epochs for every attempted trial. Notice that many trials are terminated early because they clearly were performing worse than a few others, which dominated the metric throughout training. Only two hyperparameter configurations completed all 50 epochs of training, saving us a ton of compute time! "
   ]
  },
  {
   "cell_type": "code",
   "execution_count": 19,
   "id": "guilty-taxation",
   "metadata": {},
   "outputs": [
    {
     "data": {
      "image/png": "[encoded data removed]",
      "text/plain": [
       "<Figure size 432x288 with 1 Axes>"
      ]
     },
     "metadata": {
      "needs_background": "light"
     },
     "output_type": "display_data"
    }
   ],
   "source": [
    "# Plot all trials as a function of epochs\n",
    "dfs = analysis.trial_dataframes\n",
    "ax = None\n",
    "for d in dfs.values():\n",
    "    ax = d.recall_at_k.plot(ax=ax)\n",
    "ax.set_xlabel(\"Epochs\");\n",
    "ax.set_ylabel(\"Recall@10\");\n"
   ]
  },
  {
   "cell_type": "markdown",
   "id": "stopped-hardware",
   "metadata": {},
   "source": [
    "This process has produced a winning set of hyperparameters that we can now use to learn the best item embeddings for our dataset. Unless you set the `save_model = True` flag, we now need to train the winning model! (Ray Tune supports checkpointing and model saving but we have not implemented those features here). "
   ]
  },
  {
   "cell_type": "code",
   "execution_count": 72,
   "id": "dramatic-correction",
   "metadata": {},
   "outputs": [
    {
     "data": {
      "text/plain": [
       "{'alpha': 0.0059037184451259635,\n",
       " 'iter': 50,\n",
       " 'min_count': 1,\n",
       " 'negative': 11,\n",
       " 'ns_exponent': 0.6000000000000001,\n",
       " 'sg': 1,\n",
       " 'size': 60,\n",
       " 'window': 18,\n",
       " 'workers': 6}"
      ]
     },
     "execution_count": 72,
     "metadata": {},
     "output_type": "execute_result"
    }
   ],
   "source": [
    "best_hps = analysis.get_best_config()\n",
    "best_hps"
   ]
  },
  {
   "cell_type": "code",
   "execution_count": 21,
   "id": "marine-parish",
   "metadata": {},
   "outputs": [],
   "source": [
    "tuned_model = Word2Vec(sentences=train, **best_hps)"
   ]
  },
  {
   "cell_type": "markdown",
   "id": "parallel-liverpool",
   "metadata": {},
   "source": [
    "## Embeddings\n",
    "\n",
    "Now that we have a trained model we can grab the embeddings, stored as a `KeyedVector` [object](https://radimrehurek.com/gensim/models/keyedvectors.html). These embeddings can be used for any downstream task, like generating recommendations as we discussed in our Session-based Recommender Systems report."
   ]
  },
  {
   "cell_type": "code",
   "execution_count": 64,
   "id": "funded-track",
   "metadata": {},
   "outputs": [
    {
     "name": "stdout",
     "output_type": "stream",
     "text": [
      "<gensim.models.keyedvectors.Word2VecKeyedVectors object at 0x12d2a44f0>\n"
     ]
    }
   ],
   "source": [
    "tuned_embeddings = tuned_model.wv # wv is short for word vectors\n",
    "print(tuned_embeddings)"
   ]
  },
  {
   "cell_type": "markdown",
   "id": "civilian-geology",
   "metadata": {},
   "source": [
    "### Qualitative \n",
    "\n",
    "It can be challenging to validate the quality of learned embeddings. The best way is to evaluate on a downstream task (which we'll do next). But we can also examine the quality ... qualitatively. Here we pull up the description associated with one of our product IDs. "
   ]
  },
  {
   "cell_type": "code",
   "execution_count": 65,
   "id": "sitting-apache",
   "metadata": {},
   "outputs": [
    {
     "data": {
      "text/plain": [
       "'72 SWEETHEART FAIRY CAKE CASES'"
      ]
     },
     "execution_count": 65,
     "metadata": {},
     "output_type": "execute_result"
    }
   ],
   "source": [
    "productID = '84992'\n",
    "\n",
    "df[df.StockCode == productID].Description.values[0]"
   ]
  },
  {
   "cell_type": "markdown",
   "id": "informative-childhood",
   "metadata": {},
   "source": [
    "Let's see which products are most similar to this one based on the embeddings we learned!"
   ]
  },
  {
   "cell_type": "code",
   "execution_count": 62,
   "id": "greek-values",
   "metadata": {},
   "outputs": [
    {
     "name": "stdout",
     "output_type": "stream",
     "text": [
      "60 TEATIME FAIRY CAKE CASES\n",
      "PACK OF 60 DINOSAUR CAKE CASES\n",
      "PACK OF 60 PINK PAISLEY CAKE CASES\n",
      "PACK OF 72 RETROSPOT CAKE CASES\n",
      "PACK OF 60 SPACEBOY CAKE CASES\n",
      "PACK OF 72 SKULL CAKE CASES\n",
      "PACK OF 60 MUSHROOM CAKE CASES\n",
      "60 CAKE CASES DOLLY GIRL DESIGN\n",
      "IVORY PAPER CUP CAKE CASES \n",
      "SET OF 3 HEART COOKIE CUTTERS\n"
     ]
    }
   ],
   "source": [
    "for productID, distance in tuned_embeddings.most_similar(productID):\n",
    "    print(df[df.StockCode == code].Description.values[0])"
   ]
  },
  {
   "cell_type": "markdown",
   "id": "widespread-familiar",
   "metadata": {},
   "source": [
    "All of these products appear to be other types of \"cake cases\" or other baking items. Seems pretty reasonable!"
   ]
  },
  {
   "cell_type": "markdown",
   "id": "creative-patch",
   "metadata": {},
   "source": [
    "### Quantitative\n",
    "\n",
    "While we were training, validated on a downstream task in order to identify and terminate underperforming models during hyperparameter optimzation in order to save compute. We can now evaluate our test set on on this downstream task as a way to quantitatively assess the quality of our learned product embeddings.  We'll compare these embeddings to the ones we learned earlier with the out-of-the-box Word2Vec model. "
   ]
  },
  {
   "cell_type": "code",
   "execution_count": 68,
   "id": "charming-fighter",
   "metadata": {},
   "outputs": [],
   "source": [
    "ootb_embeddings = out_of_the_box_model.wv"
   ]
  },
  {
   "cell_type": "code",
   "execution_count": 69,
   "id": "smaller-nitrogen",
   "metadata": {},
   "outputs": [],
   "source": [
    "tuned_recall_at_k = recall_at_k(test, tuned_embeddings, k=10)\n",
    "ootb_recall_at_k = recall_at_k(test, ootb_embeddings, k=10)"
   ]
  },
  {
   "cell_type": "code",
   "execution_count": 74,
   "id": "intelligent-remark",
   "metadata": {},
   "outputs": [
    {
     "data": {
      "image/png": "[encoded data removed]",
      "text/plain": [
       "<Figure size 432x288 with 1 Axes>"
      ]
     },
     "metadata": {},
     "output_type": "display_data"
    }
   ],
   "source": [
    "plt.style.use(\"seaborn-white\")\n",
    "\n",
    "fig = plt.figure()\n",
    "\n",
    "plt.barh([0,1], width=[ootb_recall_at_k, tuned_recall_at_k], color=['#00b6b5', '#f7955b'])\n",
    "plt.yticks([0,1], [\"Out-of-the-box\", \"Tuned\"], fontsize=16)\n",
    "plt.xlabel(\"Recall@10\", fontsize=16);\n",
    "\n",
    "plt.tight_layout()"
   ]
  },
  {
   "cell_type": "markdown",
   "id": "reverse-prison",
   "metadata": {},
   "source": [
    "Excellent. Hyperparameter optimization provided us with item embeddings that perform 21% better than the out-of-the-box embeddings on this downstream task.  (Note: these values of Recall@10 for this dataset and on this evaluation metric are expected. This is a challenging task which you can read more about in our Session-based Recommender Systems report.)"
   ]
  },
  {
   "cell_type": "markdown",
   "id": "extraordinary-communications",
   "metadata": {},
   "source": [
    "\n",
    "**If this documentation includes code, including but not limited to, code examples, Cloudera makes this available to you under the terms of the Apache License, Version 2.0, including any required notices. A copy of the Apache License Version 2.0 can be found here.**"
   ]
  }
 ],
 "metadata": {
  "kernelspec": {
   "display_name": "Python 3",
   "language": "python",
   "name": "python3"
  },
  "language_info": {
   "codemirror_mode": {
    "name": "ipython",
    "version": 3
   },
   "file_extension": ".py",
   "mimetype": "text/x-python",
   "name": "python",
   "nbconvert_exporter": "python",
   "pygments_lexer": "ipython3",
   "version": "3.8.8"
  }
 },
 "nbformat": 4,
 "nbformat_minor": 5
}
